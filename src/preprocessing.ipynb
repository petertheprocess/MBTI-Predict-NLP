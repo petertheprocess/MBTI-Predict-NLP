{
 "cells": [
  {
   "cell_type": "code",
   "execution_count": 2,
   "metadata": {},
   "outputs": [
    {
     "data": {
      "text/html": [
       "<div>\n",
       "<style scoped>\n",
       "    .dataframe tbody tr th:only-of-type {\n",
       "        vertical-align: middle;\n",
       "    }\n",
       "\n",
       "    .dataframe tbody tr th {\n",
       "        vertical-align: top;\n",
       "    }\n",
       "\n",
       "    .dataframe thead th {\n",
       "        text-align: right;\n",
       "    }\n",
       "</style>\n",
       "<table border=\"1\" class=\"dataframe\">\n",
       "  <thead>\n",
       "    <tr style=\"text-align: right;\">\n",
       "      <th></th>\n",
       "      <th>type</th>\n",
       "      <th>posts</th>\n",
       "    </tr>\n",
       "  </thead>\n",
       "  <tbody>\n",
       "    <tr>\n",
       "      <th>0</th>\n",
       "      <td>INFJ</td>\n",
       "      <td>'http://www.youtube.com/watch?v=qsXHcwe3krw|||...</td>\n",
       "    </tr>\n",
       "    <tr>\n",
       "      <th>1</th>\n",
       "      <td>ENTP</td>\n",
       "      <td>'I'm finding the lack of me in these posts ver...</td>\n",
       "    </tr>\n",
       "    <tr>\n",
       "      <th>2</th>\n",
       "      <td>INTP</td>\n",
       "      <td>'Good one  _____   https://www.youtube.com/wat...</td>\n",
       "    </tr>\n",
       "    <tr>\n",
       "      <th>3</th>\n",
       "      <td>INTJ</td>\n",
       "      <td>'Dear INTP,   I enjoyed our conversation the o...</td>\n",
       "    </tr>\n",
       "    <tr>\n",
       "      <th>4</th>\n",
       "      <td>ENTJ</td>\n",
       "      <td>'You're fired.|||That's another silly misconce...</td>\n",
       "    </tr>\n",
       "  </tbody>\n",
       "</table>\n",
       "</div>"
      ],
      "text/plain": [
       "   type                                              posts\n",
       "0  INFJ  'http://www.youtube.com/watch?v=qsXHcwe3krw|||...\n",
       "1  ENTP  'I'm finding the lack of me in these posts ver...\n",
       "2  INTP  'Good one  _____   https://www.youtube.com/wat...\n",
       "3  INTJ  'Dear INTP,   I enjoyed our conversation the o...\n",
       "4  ENTJ  'You're fired.|||That's another silly misconce..."
      ]
     },
     "execution_count": 2,
     "metadata": {},
     "output_type": "execute_result"
    }
   ],
   "source": [
    "import numpy as np\n",
    "import pandas as pd\n",
    "\n",
    "DATA_PATH = \"../data/mbti_1.csv\"\n",
    "df = pd.read_csv(DATA_PATH)\n",
    "df.head()"
   ]
  },
  {
   "cell_type": "code",
   "execution_count": 3,
   "metadata": {},
   "outputs": [],
   "source": [
    "from sklearn.feature_extraction.text import TfidfVectorizer\n",
    "# get training data\n",
    "def get_train_data(datapath=DATA_PATH):\n",
    "    train_data = pd.read_csv(datapath)\n",
    "    X = train_data['posts']\n",
    "    y = train_data['type']\n",
    "    return X, y\n",
    "\n",
    "# split data into train and test\n",
    "# form dataframe\n",
    "def split_data(dataframe, size=0.2):\n",
    "    train_data = dataframe.sample(frac=1-size, random_state=0)\n",
    "    test_data = dataframe.drop(train_data.index)\n",
    "    return train_data, test_data\n",
    "\n",
    "# applying tf-idf vectorizer\n",
    "def tfidf_vectorizer(X_train, X_test):\n",
    "    vectorizer = TfidfVectorizer(max_features=1500, min_df=5, max_df=0.7, stop_words='english')\n",
    "    X_train = vectorizer.fit_transform(X_train)\n",
    "    X_test = vectorizer.transform(X_test)\n",
    "    return X_train, X_test\n",
    "\n",
    "# encode labels\n",
    "def encode_labels(y):\n",
    "    ie_encoding = {\"I\":1 , \"E\":-1}\n",
    "    ns_encoding = {\"N\":1 , \"S\":-1}\n",
    "    tf_encoding = {\"T\":1 , \"F\":-1}\n",
    "    pj_encoding = {\"P\":1 , \"J\":-1}\n",
    "    y_encoded = np.zeros((len(y), 4))\n",
    "    for i, _y in enumerate(y):\n",
    "        y_encoded[i][0] = ie_encoding[_y[0]]\n",
    "        y_encoded[i][1] = ns_encoding[_y[1]]\n",
    "        y_encoded[i][2] = tf_encoding[_y[2]]\n",
    "        y_encoded[i][3] = pj_encoding[_y[3]]\n",
    "    \n",
    "    return y_encoded "
   ]
  },
  {
   "cell_type": "code",
   "execution_count": 9,
   "metadata": {},
   "outputs": [
    {
     "data": {
      "text/plain": [
       "(array([ 0,  1,  2,  3,  4,  5,  6,  7,  8,  9, 10, 11, 12, 13, 14, 15]),\n",
       " [Text(0, 0, 'INFJ'),\n",
       "  Text(1, 0, 'ENTP'),\n",
       "  Text(2, 0, 'INTP'),\n",
       "  Text(3, 0, 'INTJ'),\n",
       "  Text(4, 0, 'ENTJ'),\n",
       "  Text(5, 0, 'ENFJ'),\n",
       "  Text(6, 0, 'INFP'),\n",
       "  Text(7, 0, 'ENFP'),\n",
       "  Text(8, 0, 'ISFP'),\n",
       "  Text(9, 0, 'ISTP'),\n",
       "  Text(10, 0, 'ISFJ'),\n",
       "  Text(11, 0, 'ISTJ'),\n",
       "  Text(12, 0, 'ESTP'),\n",
       "  Text(13, 0, 'ESFP'),\n",
       "  Text(14, 0, 'ESTJ'),\n",
       "  Text(15, 0, 'ESFJ')])"
      ]
     },
     "execution_count": 9,
     "metadata": {},
     "output_type": "execute_result"
    },
    {
     "data": {
      "image/png": "[encoded data removed]",
      "text/plain": [
       "<Figure size 640x480 with 1 Axes>"
      ]
     },
     "metadata": {},
     "output_type": "display_data"
    },
    {
     "data": {
      "image/png": "[encoded data removed]",
      "text/plain": [
       "<Figure size 640x480 with 1 Axes>"
      ]
     },
     "metadata": {},
     "output_type": "display_data"
    }
   ],
   "source": [
    "# for each mbti type, 4 different classifiers are trained\n",
    "# I/E, N/S, T/F, P/J\n",
    "# view the counts for those 8 types\n",
    "def get_counts(y_train):\n",
    "    counts = {\"I\":0, \"E\":0, \"N\":0, \"S\":0, \"T\":0, \"F\":0, \"P\":0, \"J\":0}\n",
    "    for i in range(len(y_train)):\n",
    "        for c in y_train[i]:\n",
    "            counts[c] += 1\n",
    "    return counts\n",
    "\n",
    "# plot the counts and labels with text\n",
    "# I/E, N/S, T/F, P/J with 4 different colors\n",
    "import matplotlib.pyplot as plt\n",
    "cmap = plt.get_cmap('tab20c')\n",
    "\n",
    "X_train, _y = get_train_data(datapath=DATA_PATH)\n",
    "counts = get_counts(_y)\n",
    "plt.bar(range(len(counts)), list(counts.values()), align='center', color=cmap([0.1,0.1,0.4,0.4,0.7,0.7,0.9,0.9]))\n",
    "plt.xticks(range(len(counts)), list(counts.keys()))\n",
    "\n",
    "# also plot the counts for 16 different types\n",
    "def get_counts_16(y_train):\n",
    "    counts = {}\n",
    "    for i in range(len(y_train)):\n",
    "        if y_train[i] not in counts:\n",
    "            counts[y_train[i]] = 1\n",
    "        else:\n",
    "            counts[y_train[i]] += 1\n",
    "    return counts\n",
    "counts_16 = get_counts_16(_y)\n",
    "# plot them with 16 different colors and labels\n",
    "# in a new figure, and make the x inerval bigger\n",
    "plt.figure()\n",
    "plt.bar(range(len(counts_16)), list(counts_16.values()), align='center', color = cmap(np.linspace(0.1, 0.9, len(counts_16))))\n",
    "plt.xticks(range(len(counts_16)), list(counts_16.keys()))\n",
    "plt.xticks(rotation=90)"
   ]
  },
  {
   "cell_type": "markdown",
   "metadata": {},
   "source": [
    "If we directly classify the data to 16 classes, since the data distribution is not balenced, the model will be biased to the majority class.\n",
    "If we seperately train 4 classifiers, each respectively for 1 personality dimension, the dataset will be more balanced, and the model will be more accurate."
   ]
  },
  {
   "cell_type": "code",
   "execution_count": 4,
   "metadata": {},
   "outputs": [
    {
     "name": "stdout",
     "output_type": "stream",
     "text": [
      "[[ 1.         -0.04589856 -0.06957279 -0.1619395 ]\n",
      " [-0.04589856  1.         -0.08095363 -0.01492205]\n",
      " [-0.06957279 -0.08095363  1.          0.00467333]\n",
      " [-0.1619395  -0.01492205  0.00467333  1.        ]]\n"
     ]
    },
    {
     "data": {
      "text/plain": [
       "<Axes: >"
      ]
     },
     "execution_count": 4,
     "metadata": {},
     "output_type": "execute_result"
    },
    {
     "data": {
      "image/png": "[encoded data removed]",
      "text/plain": [
       "<Figure size 640x480 with 2 Axes>"
      ]
     },
     "metadata": {},
     "output_type": "display_data"
    }
   ],
   "source": [
    "# correlation matrix for 4 dimensions\n",
    "# I/E, N/S, T/F, P/J\n",
    "def get_correlation_matrix(y_train):\n",
    "    y_encoded = encode_labels(y_train)\n",
    "    correlation_matrix = np.corrcoef(y_encoded.T)\n",
    "    return correlation_matrix\n",
    "    \n",
    "import seaborn as sns\n",
    "cmap = sns.diverging_palette(220, 10, as_cmap=True)\n",
    "# plot the correlation matrix\n",
    "correlation_matrix = get_correlation_matrix(_y)\n",
    "print(correlation_matrix)\n",
    "# plt.figure()\n",
    "# plt.imshow(correlation_matrix, cmap=cmap, interpolation='nearest')\n",
    "# # shoe xticks on the top of the figure\n",
    "# plt.tick_params(axis='x', which='both', bottom=False, top=True, labelbottom=False , labeltop=True)\n",
    "# plt.xticks(range(4), ['I/E', 'N/S', 'T/F', 'P/J'])\n",
    "# plt.yticks(range(4), ['I/E', 'N/S', 'T/F', 'P/J'])\n",
    "sns.heatmap(\n",
    "    correlation_matrix,          # The data to plot\n",
    "    cmap=cmap,     # What colors to plot the heatmap as\n",
    "    annot=True,    # Should the values be plotted in the cells?\n",
    "    vmax=.3,       # The maximum value of the legend. All higher vals will be same color\n",
    "    vmin=-.3,      # The minimum value of the legend. All lower vals will be same color\n",
    "    center=0,      # The center value of the legend. With divergent cmap, where white is\n",
    "    square=True,   # Force cells to be square\n",
    "    linewidths=.5, # Width of lines that divide cells\n",
    "    cbar_kws={\"shrink\": .5},  # Extra kwargs for the legend; in this case, shrink by 50%\n",
    "    xticklabels=['I/E', 'N/S', 'T/F', 'P/J'],\n",
    "    yticklabels=['I/E', 'N/S', 'T/F', 'P/J']\n",
    "    \n",
    ")\n"
   ]
  },
  {
   "cell_type": "code",
   "execution_count": 5,
   "metadata": {},
   "outputs": [
    {
     "name": "stderr",
     "output_type": "stream",
     "text": [
      "[nltk_data] Downloading package stopwords to /home/tan/nltk_data...\n",
      "[nltk_data]   Package stopwords is already up-to-date!\n"
     ]
    }
   ],
   "source": [
    "import re\n",
    "import string\n",
    "from nltk.corpus import stopwords\n",
    "from nltk.stem import PorterStemmer\n",
    "import nltk\n",
    "nltk.download('stopwords')\n",
    "# clean the data\n",
    "# remove urls, and punctuations\n",
    "# remove stop words\n",
    "# remove numbers\n",
    "# remove MBTI types\n",
    "def clean_data(X_train):\n",
    "    ps = PorterStemmer()\n",
    "    X_train_cleaned = []\n",
    "    for i in range(len(X_train)):\n",
    "        # remove urls\n",
    "        X_train[i] = re.sub(r'http\\S+', '', X_train[i])\n",
    "        # remove punctuations\n",
    "        X_train[i] = X_train[i].translate(str.maketrans('', '', string.punctuation))\n",
    "        # remove stop words\n",
    "        # X_train[i] = ' '.join([word for word in X_train[i].split() if word not in stopwords.words('english')]) # remove numbers\n",
    "        X_train[i] = ''.join([i for i in X_train[i] if not i.isdigit()])\n",
    "        # stemming\n",
    "        # X_train[i] = ' '.join([ps.stem(word) for word in X_train[i].split()])\n",
    "        # remove MBTI types\n",
    "        mbti_types = ['infj', 'entp', 'intp', 'intj', 'entj', 'enfj', 'infp', 'enfp','isfp', 'istp', 'isfj', 'istj', 'estp', 'esfp', 'estj', 'esfj']\n",
    "        for mbti_type in mbti_types:\n",
    "            X_train[i] = X_train[i].replace(mbti_type, '')\n",
    "        # also upper case\n",
    "        for mbti_type in mbti_types:\n",
    "            X_train[i] = X_train[i].replace(mbti_type.upper(), '')\n",
    "        X_train_cleaned.append(X_train[i])\n",
    "    return X_train_cleaned"
   ]
  },
  {
   "cell_type": "code",
   "execution_count": 6,
   "metadata": {},
   "outputs": [],
   "source": [
    "df.posts[0].split('|||').__len__()\n",
    "# average word counts per post\n",
    "# average word length per word\n",
    "X_train, _y = get_train_data(datapath=DATA_PATH)\n",
    "X_train_cleaned = clean_data(X_train)"
   ]
  },
  {
   "cell_type": "code",
   "execution_count": 7,
   "metadata": {},
   "outputs": [],
   "source": [
    "from textblob import TextBlob\n",
    "def get_average_length_and_emotion(X_train):\n",
    "    average_word_counts = []\n",
    "    average_word_length = []\n",
    "    average_emo_score = []\n",
    "    for i in range(len(X_train)):\n",
    "        posts = X_train[i].split('|||')\n",
    "        total_word_counts = 0\n",
    "        total_char_counts = 0\n",
    "        emo_score = 0\n",
    "        for post in posts:\n",
    "            blob = TextBlob(post)\n",
    "            emo_score += blob.sentiment.polarity\n",
    "            words = post.split()\n",
    "            total_word_counts += len(words)\n",
    "            for word in words:\n",
    "                total_char_counts += len(word)\n",
    "        average_word_counts.append(total_word_counts / len(posts))\n",
    "        average_word_length.append(total_char_counts / total_word_counts)\n",
    "        average_emo_score.append(emo_score / len(posts))\n",
    "    return average_word_counts, average_word_length, average_emo_score\n",
    "df['cleaned_posts'] = X_train_cleaned\n",
    "df['average_word_counts'], df['average_word_length'], df['average_emo_score'] = get_average_length_and_emotion(df.posts)"
   ]
  },
  {
   "cell_type": "code",
   "execution_count": 8,
   "metadata": {},
   "outputs": [],
   "source": [
    "y_encoded = encode_labels(df.type)\n",
    "df['y_encoded'] = y_encoded.tolist()\n",
    "# save df to csv\n",
    "df.to_csv('../data/mbti_1_cleaned.csv', index=False)\n"
   ]
  }
 ],
 "metadata": {
  "kernelspec": {
   "display_name": "nlp",
   "language": "python",
   "name": "python3"
  },
  "language_info": {
   "codemirror_mode": {
    "name": "ipython",
    "version": 3
   },
   "file_extension": ".py",
   "mimetype": "text/x-python",
   "name": "python",
   "nbconvert_exporter": "python",
   "pygments_lexer": "ipython3",
   "version": "3.11.5"
  },
  "orig_nbformat": 4
 },
 "nbformat": 4,
 "nbformat_minor": 2
}
