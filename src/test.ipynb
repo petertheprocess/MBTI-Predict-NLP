{
 "cells": [
  {
   "cell_type": "code",
   "execution_count": 1,
   "metadata": {},
   "outputs": [
    {
     "data": {
      "text/html": [
       "<div>\n",
       "<style scoped>\n",
       "    .dataframe tbody tr th:only-of-type {\n",
       "        vertical-align: middle;\n",
       "    }\n",
       "\n",
       "    .dataframe tbody tr th {\n",
       "        vertical-align: top;\n",
       "    }\n",
       "\n",
       "    .dataframe thead th {\n",
       "        text-align: right;\n",
       "    }\n",
       "</style>\n",
       "<table border=\"1\" class=\"dataframe\">\n",
       "  <thead>\n",
       "    <tr style=\"text-align: right;\">\n",
       "      <th></th>\n",
       "      <th>type</th>\n",
       "      <th>posts</th>\n",
       "    </tr>\n",
       "  </thead>\n",
       "  <tbody>\n",
       "    <tr>\n",
       "      <th>0</th>\n",
       "      <td>INFJ</td>\n",
       "      <td>'http://www.youtube.com/watch?v=qsXHcwe3krw|||...</td>\n",
       "    </tr>\n",
       "    <tr>\n",
       "      <th>1</th>\n",
       "      <td>ENTP</td>\n",
       "      <td>'I'm finding the lack of me in these posts ver...</td>\n",
       "    </tr>\n",
       "    <tr>\n",
       "      <th>2</th>\n",
       "      <td>INTP</td>\n",
       "      <td>'Good one  _____   https://www.youtube.com/wat...</td>\n",
       "    </tr>\n",
       "    <tr>\n",
       "      <th>3</th>\n",
       "      <td>INTJ</td>\n",
       "      <td>'Dear INTP,   I enjoyed our conversation the o...</td>\n",
       "    </tr>\n",
       "    <tr>\n",
       "      <th>4</th>\n",
       "      <td>ENTJ</td>\n",
       "      <td>'You're fired.|||That's another silly misconce...</td>\n",
       "    </tr>\n",
       "  </tbody>\n",
       "</table>\n",
       "</div>"
      ],
      "text/plain": [
       "   type                                              posts\n",
       "0  INFJ  'http://www.youtube.com/watch?v=qsXHcwe3krw|||...\n",
       "1  ENTP  'I'm finding the lack of me in these posts ver...\n",
       "2  INTP  'Good one  _____   https://www.youtube.com/wat...\n",
       "3  INTJ  'Dear INTP,   I enjoyed our conversation the o...\n",
       "4  ENTJ  'You're fired.|||That's another silly misconce..."
      ]
     },
     "execution_count": 1,
     "metadata": {},
     "output_type": "execute_result"
    }
   ],
   "source": [
    "import numpy as np\n",
    "import pandas as pd\n",
    "\n",
    "DATA_PATH = \"../data/mbti_1.csv\"\n",
    "df = pd.read_csv(DATA_PATH)\n",
    "df.head()"
   ]
  },
  {
   "cell_type": "code",
   "execution_count": 2,
   "metadata": {},
   "outputs": [],
   "source": [
    "from sklearn.feature_extraction.text import TfidfVectorizer\n",
    "# get training data\n",
    "def get_train_data(datapath=DATA_PATH):\n",
    "    train_data = pd.read_csv(datapath)\n",
    "    X = train_data['posts']\n",
    "    y = train_data['type']\n",
    "    return X, y\n",
    "\n",
    "# split data into train and test\n",
    "# form dataframe\n",
    "def split_data(dataframe, size=0.2):\n",
    "    train_data = dataframe.sample(frac=1-size, random_state=0)\n",
    "    test_data = dataframe.drop(train_data.index)\n",
    "    return train_data, test_data\n",
    "\n",
    "# applying tf-idf vectorizer\n",
    "def tfidf_vectorizer(X_train, X_test):\n",
    "    vectorizer = TfidfVectorizer(max_features=1500, min_df=5, max_df=0.7, stop_words='english')\n",
    "    X_train = vectorizer.fit_transform(X_train)\n",
    "    X_test = vectorizer.transform(X_test)\n",
    "    return X_train, X_test\n",
    "\n",
    "# encode labels\n",
    "def encode_labels(y):\n",
    "    ie_encoding = {\"I\":1 , \"E\":-1}\n",
    "    ns_encoding = {\"N\":1 , \"S\":-1}\n",
    "    tf_encoding = {\"T\":1 , \"F\":-1}\n",
    "    pj_encoding = {\"P\":1 , \"J\":-1}\n",
    "    y_encoded = np.zeros((len(y), 4))\n",
    "    for i, _y in enumerate(y):\n",
    "        y_encoded[i][0] = ie_encoding[_y[0]]\n",
    "        y_encoded[i][1] = ns_encoding[_y[1]]\n",
    "        y_encoded[i][2] = tf_encoding[_y[2]]\n",
    "        y_encoded[i][3] = pj_encoding[_y[3]]\n",
    "    \n",
    "    return y_encoded "
   ]
  },
  {
   "cell_type": "code",
   "execution_count": 3,
   "metadata": {},
   "outputs": [
    {
     "data": {
      "text/plain": [
       "(array([ 0,  1,  2,  3,  4,  5,  6,  7,  8,  9, 10, 11, 12, 13, 14, 15]),\n",
       " [Text(0, 0, 'INFJ'),\n",
       "  Text(1, 0, 'ENTP'),\n",
       "  Text(2, 0, 'INTP'),\n",
       "  Text(3, 0, 'INTJ'),\n",
       "  Text(4, 0, 'ENTJ'),\n",
       "  Text(5, 0, 'ENFJ'),\n",
       "  Text(6, 0, 'INFP'),\n",
       "  Text(7, 0, 'ENFP'),\n",
       "  Text(8, 0, 'ISFP'),\n",
       "  Text(9, 0, 'ISTP'),\n",
       "  Text(10, 0, 'ISFJ'),\n",
       "  Text(11, 0, 'ISTJ'),\n",
       "  Text(12, 0, 'ESTP'),\n",
       "  Text(13, 0, 'ESFP'),\n",
       "  Text(14, 0, 'ESTJ'),\n",
       "  Text(15, 0, 'ESFJ')])"
      ]
     },
     "execution_count": 3,
     "metadata": {},
     "output_type": "execute_result"
    },
    {
     "data": {
      "image/png": "[encoded data removed]",
      "text/plain": [
       "<Figure size 640x480 with 1 Axes>"
      ]
     },
     "metadata": {},
     "output_type": "display_data"
    },
    {
     "data": {
      "image/png": "[encoded data removed]",
      "text/plain": [
       "<Figure size 640x480 with 1 Axes>"
      ]
     },
     "metadata": {},
     "output_type": "display_data"
    }
   ],
   "source": [
    "# for each mbti type, 4 different classifiers are trained\n",
    "# I/E, N/S, T/F, P/J\n",
    "# view the counts for those 8 types\n",
    "def get_counts(y_train):\n",
    "    counts = {\"I\":0, \"E\":0, \"N\":0, \"S\":0, \"T\":0, \"F\":0, \"P\":0, \"J\":0}\n",
    "    for i in range(len(y_train)):\n",
    "        for c in y_train[i]:\n",
    "            counts[c] += 1\n",
    "    return counts\n",
    "\n",
    "# plot the counts and labels with text\n",
    "# I/E, N/S, T/F, P/J with 4 different colors\n",
    "import matplotlib.pyplot as plt\n",
    "X_train, _y = get_train_data(datapath=DATA_PATH)\n",
    "counts = get_counts(_y)\n",
    "plt.bar(range(len(counts)), list(counts.values()), align='center', color=['red', 'red', 'blue', 'blue', 'green', 'green', 'yellow', 'yellow'])\n",
    "plt.xticks(range(len(counts)), list(counts.keys()))\n",
    "\n",
    "# also plot the counts for 16 different types\n",
    "def get_counts_16(y_train):\n",
    "    counts = {}\n",
    "    for i in range(len(y_train)):\n",
    "        if y_train[i] not in counts:\n",
    "            counts[y_train[i]] = 1\n",
    "        else:\n",
    "            counts[y_train[i]] += 1\n",
    "    return counts\n",
    "counts_16 = get_counts_16(_y)\n",
    "# plot them with 16 different colors and labels\n",
    "# in a new figure, and make the x inerval bigger\n",
    "cmap = plt.get_cmap('gist_rainbow')\n",
    "plt.figure()\n",
    "plt.bar(range(len(counts_16)), list(counts_16.values()), align='center', color = cmap(np.linspace(0.1, 0.9, len(counts_16))))\n",
    "plt.xticks(range(len(counts_16)), list(counts_16.keys()))\n",
    "plt.xticks(rotation=90)"
   ]
  },
  {
   "cell_type": "markdown",
   "metadata": {},
   "source": [
    "If we directly classify the data to 16 classes, since the data distribution is not balenced, the model will be biased to the majority class.\n",
    "If we seperately train 4 classifiers, each respectively for 1 personality dimension, the dataset will be more balanced, and the model will be more accurate."
   ]
  },
  {
   "cell_type": "code",
   "execution_count": 4,
   "metadata": {},
   "outputs": [
    {
     "name": "stdout",
     "output_type": "stream",
     "text": [
      "[[ 1.         -0.04589856 -0.06957279 -0.1619395 ]\n",
      " [-0.04589856  1.         -0.08095363 -0.01492205]\n",
      " [-0.06957279 -0.08095363  1.          0.00467333]\n",
      " [-0.1619395  -0.01492205  0.00467333  1.        ]]\n"
     ]
    },
    {
     "data": {
      "text/plain": [
       "<Axes: >"
      ]
     },
     "execution_count": 4,
     "metadata": {},
     "output_type": "execute_result"
    },
    {
     "data": {
      "image/png": "[encoded data removed]",
      "text/plain": [
       "<Figure size 640x480 with 2 Axes>"
      ]
     },
     "metadata": {},
     "output_type": "display_data"
    }
   ],
   "source": [
    "# correlation matrix for 4 dimensions\n",
    "# I/E, N/S, T/F, P/J\n",
    "def get_correlation_matrix(y_train):\n",
    "    y_encoded = encode_labels(y_train)\n",
    "    correlation_matrix = np.corrcoef(y_encoded.T)\n",
    "    return correlation_matrix\n",
    "    \n",
    "import seaborn as sns\n",
    "cmap = sns.diverging_palette(220, 10, as_cmap=True)\n",
    "# plot the correlation matrix\n",
    "correlation_matrix = get_correlation_matrix(_y)\n",
    "print(correlation_matrix)\n",
    "# plt.figure()\n",
    "# plt.imshow(correlation_matrix, cmap=cmap, interpolation='nearest')\n",
    "# # shoe xticks on the top of the figure\n",
    "# plt.tick_params(axis='x', which='both', bottom=False, top=True, labelbottom=False , labeltop=True)\n",
    "# plt.xticks(range(4), ['I/E', 'N/S', 'T/F', 'P/J'])\n",
    "# plt.yticks(range(4), ['I/E', 'N/S', 'T/F', 'P/J'])\n",
    "sns.heatmap(\n",
    "    correlation_matrix,          # The data to plot\n",
    "    cmap=cmap,     # What colors to plot the heatmap as\n",
    "    annot=True,    # Should the values be plotted in the cells?\n",
    "    vmax=.3,       # The maximum value of the legend. All higher vals will be same color\n",
    "    vmin=-.3,      # The minimum value of the legend. All lower vals will be same color\n",
    "    center=0,      # The center value of the legend. With divergent cmap, where white is\n",
    "    square=True,   # Force cells to be square\n",
    "    linewidths=.5, # Width of lines that divide cells\n",
    "    cbar_kws={\"shrink\": .5},  # Extra kwargs for the legend; in this case, shrink by 50%\n",
    "    xticklabels=['I/E', 'N/S', 'T/F', 'P/J'],\n",
    "    yticklabels=['I/E', 'N/S', 'T/F', 'P/J']\n",
    "    \n",
    ")\n"
   ]
  },
  {
   "cell_type": "code",
   "execution_count": 5,
   "metadata": {},
   "outputs": [
    {
     "name": "stderr",
     "output_type": "stream",
     "text": [
      "[nltk_data] Downloading package stopwords to /home/tan/nltk_data...\n",
      "[nltk_data]   Package stopwords is already up-to-date!\n"
     ]
    }
   ],
   "source": [
    "import re\n",
    "import string\n",
    "from nltk.corpus import stopwords\n",
    "from nltk.stem import PorterStemmer\n",
    "import nltk\n",
    "nltk.download('stopwords')\n",
    "# clean the data\n",
    "# remove urls, and punctuations\n",
    "# remove stop words\n",
    "# remove numbers\n",
    "# remove MBTI types\n",
    "def clean_data(X_train):\n",
    "    ps = PorterStemmer()\n",
    "    X_train_cleaned = []\n",
    "    for i in range(len(X_train)):\n",
    "        # remove urls\n",
    "        X_train[i] = re.sub(r'http\\S+', '', X_train[i])\n",
    "        # remove punctuations\n",
    "        X_train[i] = X_train[i].translate(str.maketrans('', '', string.punctuation))\n",
    "        # remove stop words\n",
    "        # X_train[i] = ' '.join([word for word in X_train[i].split() if word not in stopwords.words('english')]) # remove numbers\n",
    "        X_train[i] = ''.join([i for i in X_train[i] if not i.isdigit()])\n",
    "        # stemming\n",
    "        # X_train[i] = ' '.join([ps.stem(word) for word in X_train[i].split()])\n",
    "        # remove MBTI types\n",
    "        mbti_types = ['infj', 'entp', 'intp', 'intj', 'entj', 'enfj', 'infp', 'enfp','isfp', 'istp', 'isfj', 'istj', 'estp', 'esfp', 'estj', 'esfj']\n",
    "        for mbti_type in mbti_types:\n",
    "            X_train[i] = X_train[i].replace(mbti_type, '')\n",
    "        # also upper case\n",
    "        for mbti_type in mbti_types:\n",
    "            X_train[i] = X_train[i].replace(mbti_type.upper(), '')\n",
    "        X_train_cleaned.append(X_train[i])\n",
    "    return X_train_cleaned"
   ]
  },
  {
   "cell_type": "code",
   "execution_count": 6,
   "metadata": {},
   "outputs": [],
   "source": [
    "df.posts[0].split('|||').__len__()\n",
    "# average word counts per post\n",
    "# average word length per word\n",
    "X_train, _y = get_train_data(datapath=DATA_PATH)\n",
    "X_train_cleaned = clean_data(X_train)"
   ]
  },
  {
   "cell_type": "code",
   "execution_count": 7,
   "metadata": {},
   "outputs": [],
   "source": [
    "from textblob import TextBlob\n",
    "def get_average_length_and_emotion(X_train):\n",
    "    average_word_counts = []\n",
    "    average_word_length = []\n",
    "    average_emo_score = []\n",
    "    for i in range(len(X_train)):\n",
    "        posts = X_train[i].split('|||')\n",
    "        total_word_counts = 0\n",
    "        total_char_counts = 0\n",
    "        emo_score = 0\n",
    "        for post in posts:\n",
    "            blob = TextBlob(post)\n",
    "            emo_score += blob.sentiment.polarity\n",
    "            words = post.split()\n",
    "            total_word_counts += len(words)\n",
    "            for word in words:\n",
    "                total_char_counts += len(word)\n",
    "        average_word_counts.append(total_word_counts / len(posts))\n",
    "        average_word_length.append(total_char_counts / total_word_counts)\n",
    "        average_emo_score.append(emo_score / len(posts))\n",
    "    return average_word_counts, average_word_length, average_emo_score\n",
    "df['cleaned_posts'] = X_train_cleaned\n",
    "df['average_word_counts'], df['average_word_length'], df['average_emo_score'] = get_average_length_and_emotion(df.posts)"
   ]
  },
  {
   "cell_type": "code",
   "execution_count": 8,
   "metadata": {},
   "outputs": [],
   "source": [
    "y_encoded = encode_labels(df.type)\n",
    "df['y_encoded'] = y_encoded.tolist()\n",
    "# save df to csv\n",
    "df.to_csv('../data/mbti_1_cleaned.csv', index=False)\n"
   ]
  },
  {
   "cell_type": "code",
   "execution_count": 9,
   "metadata": {},
   "outputs": [],
   "source": [
    "# split the data into train and test\n",
    "# by df, y is df.y_encoded, x is other columns\n",
    "df_train, df_test = split_data(df, size=0.2)\n",
    "tfidf_train, tfidf_test = tfidf_vectorizer(df_train.cleaned_posts, df_test.cleaned_posts)\n"
   ]
  },
  {
   "cell_type": "code",
   "execution_count": 10,
   "metadata": {},
   "outputs": [],
   "source": [
    "from sklearn.svm import SVC\n",
    "from sklearn.linear_model import LogisticRegression\n",
    "from sklearn.ensemble import RandomForestClassifier\n",
    "from sklearn.metrics import accuracy_score\n",
    "from sklearn.metrics import classification_report\n",
    "# only use tfidf as features\n",
    "# train the model\n",
    "# predict and get accuracy\n",
    "def train_model(X_train, y_train, X_test, y_test, models):\n",
    "    for i,model in enumerate(models):\n",
    "        model.fit(X_train, y_train[:,i])\n",
    "        y_pred = model.predict(X_test)\n",
    "        print(\"Accuracy for dimension {} is {}\".format(i, accuracy_score(y_test[:,i], y_pred)))\n",
    "        print(classification_report(y_test[:,i], y_pred))\n",
    "        print(\"\\n\")\n",
    "\n",
    "models = [SVC(), SVC(), SVC(), SVC()]\n",
    "# train the model, use 4 different classifiers\n",
    "# each predicts one dimension of y_encoded\n",
    "y_encoded_train = np.array( df_train.y_encoded.tolist() )\n",
    "y_encoded_test = np.array( df_test.y_encoded.tolist() )\n",
    "# train_model(tfidf_train, y_encoded_train, tfidf_test, y_encoded_test, models)\n"
   ]
  },
  {
   "cell_type": "code",
   "execution_count": 11,
   "metadata": {},
   "outputs": [
    {
     "name": "stdout",
     "output_type": "stream",
     "text": [
      "Accuracy for dimension 0 is 0.7780979827089337\n",
      "              precision    recall  f1-score   support\n",
      "\n",
      "        -1.0       0.00      0.00      0.00       385\n",
      "         1.0       0.78      1.00      0.88      1350\n",
      "\n",
      "    accuracy                           0.78      1735\n",
      "   macro avg       0.39      0.50      0.44      1735\n",
      "weighted avg       0.61      0.78      0.68      1735\n",
      "\n",
      "\n",
      "\n"
     ]
    },
    {
     "name": "stderr",
     "output_type": "stream",
     "text": [
      "/home/tan/anaconda3/envs/nlp/lib/python3.11/site-packages/sklearn/metrics/_classification.py:1344: UndefinedMetricWarning: Precision and F-score are ill-defined and being set to 0.0 in labels with no predicted samples. Use `zero_division` parameter to control this behavior.\n",
      "  _warn_prf(average, modifier, msg_start, len(result))\n",
      "/home/tan/anaconda3/envs/nlp/lib/python3.11/site-packages/sklearn/metrics/_classification.py:1344: UndefinedMetricWarning: Precision and F-score are ill-defined and being set to 0.0 in labels with no predicted samples. Use `zero_division` parameter to control this behavior.\n",
      "  _warn_prf(average, modifier, msg_start, len(result))\n",
      "/home/tan/anaconda3/envs/nlp/lib/python3.11/site-packages/sklearn/metrics/_classification.py:1344: UndefinedMetricWarning: Precision and F-score are ill-defined and being set to 0.0 in labels with no predicted samples. Use `zero_division` parameter to control this behavior.\n",
      "  _warn_prf(average, modifier, msg_start, len(result))\n"
     ]
    },
    {
     "name": "stdout",
     "output_type": "stream",
     "text": [
      "Accuracy for dimension 1 is 0.8512968299711815\n",
      "              precision    recall  f1-score   support\n",
      "\n",
      "        -1.0       0.00      0.00      0.00       258\n",
      "         1.0       0.85      1.00      0.92      1477\n",
      "\n",
      "    accuracy                           0.85      1735\n",
      "   macro avg       0.43      0.50      0.46      1735\n",
      "weighted avg       0.72      0.85      0.78      1735\n",
      "\n",
      "\n",
      "\n"
     ]
    },
    {
     "name": "stderr",
     "output_type": "stream",
     "text": [
      "/home/tan/anaconda3/envs/nlp/lib/python3.11/site-packages/sklearn/metrics/_classification.py:1344: UndefinedMetricWarning: Precision and F-score are ill-defined and being set to 0.0 in labels with no predicted samples. Use `zero_division` parameter to control this behavior.\n",
      "  _warn_prf(average, modifier, msg_start, len(result))\n",
      "/home/tan/anaconda3/envs/nlp/lib/python3.11/site-packages/sklearn/metrics/_classification.py:1344: UndefinedMetricWarning: Precision and F-score are ill-defined and being set to 0.0 in labels with no predicted samples. Use `zero_division` parameter to control this behavior.\n",
      "  _warn_prf(average, modifier, msg_start, len(result))\n",
      "/home/tan/anaconda3/envs/nlp/lib/python3.11/site-packages/sklearn/metrics/_classification.py:1344: UndefinedMetricWarning: Precision and F-score are ill-defined and being set to 0.0 in labels with no predicted samples. Use `zero_division` parameter to control this behavior.\n",
      "  _warn_prf(average, modifier, msg_start, len(result))\n"
     ]
    },
    {
     "name": "stdout",
     "output_type": "stream",
     "text": [
      "Accuracy for dimension 2 is 0.5365994236311239\n",
      "              precision    recall  f1-score   support\n",
      "\n",
      "        -1.0       0.54      1.00      0.70       931\n",
      "         1.0       0.00      0.00      0.00       804\n",
      "\n",
      "    accuracy                           0.54      1735\n",
      "   macro avg       0.27      0.50      0.35      1735\n",
      "weighted avg       0.29      0.54      0.37      1735\n",
      "\n",
      "\n",
      "\n"
     ]
    },
    {
     "name": "stderr",
     "output_type": "stream",
     "text": [
      "/home/tan/anaconda3/envs/nlp/lib/python3.11/site-packages/sklearn/metrics/_classification.py:1344: UndefinedMetricWarning: Precision and F-score are ill-defined and being set to 0.0 in labels with no predicted samples. Use `zero_division` parameter to control this behavior.\n",
      "  _warn_prf(average, modifier, msg_start, len(result))\n",
      "/home/tan/anaconda3/envs/nlp/lib/python3.11/site-packages/sklearn/metrics/_classification.py:1344: UndefinedMetricWarning: Precision and F-score are ill-defined and being set to 0.0 in labels with no predicted samples. Use `zero_division` parameter to control this behavior.\n",
      "  _warn_prf(average, modifier, msg_start, len(result))\n",
      "/home/tan/anaconda3/envs/nlp/lib/python3.11/site-packages/sklearn/metrics/_classification.py:1344: UndefinedMetricWarning: Precision and F-score are ill-defined and being set to 0.0 in labels with no predicted samples. Use `zero_division` parameter to control this behavior.\n",
      "  _warn_prf(average, modifier, msg_start, len(result))\n"
     ]
    },
    {
     "name": "stdout",
     "output_type": "stream",
     "text": [
      "Accuracy for dimension 3 is 0.6092219020172911\n",
      "              precision    recall  f1-score   support\n",
      "\n",
      "        -1.0       0.00      0.00      0.00       677\n",
      "         1.0       0.61      1.00      0.76      1058\n",
      "\n",
      "    accuracy                           0.61      1735\n",
      "   macro avg       0.30      0.50      0.38      1735\n",
      "weighted avg       0.37      0.61      0.46      1735\n",
      "\n",
      "\n",
      "\n"
     ]
    }
   ],
   "source": [
    "# use average word counts, average word length, average emotion score as features\n",
    "# normalize the features\n",
    "# train the model\n",
    "# predict and get accuracy\n",
    "from sklearn import preprocessing\n",
    "X_train_3features = df_train[['average_word_counts', 'average_word_length', 'average_emo_score']].values\n",
    "X_test_3features = df_test[['average_word_counts', 'average_word_length', 'average_emo_score']].values\n",
    "X_train_3features = preprocessing.normalize(X_train_3features)\n",
    "X_test_3features = preprocessing.normalize(X_test_3features)\n",
    "models_3features = [SVC(), SVC(), SVC(), SVC()]\n",
    "train_model(X_train_3features, y_encoded_train, X_test_3features, y_encoded_test, models_3features)\n"
   ]
  },
  {
   "cell_type": "code",
   "execution_count": 12,
   "metadata": {},
   "outputs": [
    {
     "name": "stdout",
     "output_type": "stream",
     "text": [
      "Resampled dataset shape Counter({1.0: 5326, -1.0: 5326})\n",
      "Accuracy for dimension 0 is 0.39481268011527376\n",
      "              precision    recall  f1-score   support\n",
      "\n",
      "        -1.0       0.23      0.71      0.34       385\n",
      "         1.0       0.79      0.31      0.44      1350\n",
      "\n",
      "    accuracy                           0.39      1735\n",
      "   macro avg       0.51      0.51      0.39      1735\n",
      "weighted avg       0.66      0.39      0.42      1735\n",
      "\n",
      "\n",
      "\n",
      "Resampled dataset shape Counter({-1.0: 6001, 1.0: 6001})\n",
      "Accuracy for dimension 1 is 0.6484149855907781\n",
      "              precision    recall  f1-score   support\n",
      "\n",
      "        -1.0       0.16      0.33      0.22       258\n",
      "         1.0       0.86      0.70      0.77      1477\n",
      "\n",
      "    accuracy                           0.65      1735\n",
      "   macro avg       0.51      0.52      0.49      1735\n",
      "weighted avg       0.75      0.65      0.69      1735\n",
      "\n",
      "\n",
      "\n",
      "Resampled dataset shape Counter({-1.0: 3763, 1.0: 3763})\n",
      "Accuracy for dimension 2 is 0.530835734870317\n",
      "              precision    recall  f1-score   support\n",
      "\n",
      "        -1.0       0.55      0.66      0.60       931\n",
      "         1.0       0.49      0.38      0.43       804\n",
      "\n",
      "    accuracy                           0.53      1735\n",
      "   macro avg       0.52      0.52      0.52      1735\n",
      "weighted avg       0.52      0.53      0.52      1735\n",
      "\n",
      "\n",
      "\n",
      "Resampled dataset shape Counter({1.0: 4183, -1.0: 4183})\n",
      "Accuracy for dimension 3 is 0.48876080691642654\n",
      "              precision    recall  f1-score   support\n",
      "\n",
      "        -1.0       0.40      0.64      0.49       677\n",
      "         1.0       0.63      0.39      0.48      1058\n",
      "\n",
      "    accuracy                           0.49      1735\n",
      "   macro avg       0.52      0.52      0.49      1735\n",
      "weighted avg       0.54      0.49      0.49      1735\n",
      "\n",
      "\n",
      "\n"
     ]
    }
   ],
   "source": [
    "# balance the data by its label using SMOTE\n",
    "# make sure each label has the same number of samples\n",
    "from imblearn.over_sampling import SMOTE\n",
    "from collections import Counter\n",
    "def balance_data(X_train, y_train):\n",
    "    sm = SMOTE(random_state=42)\n",
    "    X_train, y_train = sm.fit_resample(X_train, y_train)\n",
    "    print('Resampled dataset shape %s' % Counter(y_train))\n",
    "    return X_train, y_train\n",
    "\n",
    "# SMOTE on 4 dimensions\n",
    "# train the model\n",
    "models = [LogisticRegression(), LogisticRegression(), LogisticRegression(), LogisticRegression()]\n",
    "def train_model_balence(X_train, y_train, X_test, y_test, models):\n",
    "    for i,model in enumerate(models):\n",
    "        X_train_balenced, y_train_balenced = balance_data(X_train, y_train[:,i])\n",
    "        model.fit(X_train_balenced, y_train_balenced)\n",
    "        y_pred = model.predict(X_test)\n",
    "        print(\"Accuracy for dimension {} is {}\".format(i, accuracy_score(y_test[:,i], y_pred)))\n",
    "        print(classification_report(y_test[:,i], y_pred))\n",
    "        print(\"\\n\")\n",
    "\n",
    "train_model_balence(X_train_3features, y_encoded_train, X_test_3features, y_encoded_test, models)"
   ]
  },
  {
   "cell_type": "code",
   "execution_count": 13,
   "metadata": {},
   "outputs": [
    {
     "name": "stdout",
     "output_type": "stream",
     "text": [
      "Resampled dataset shape Counter({1.0: 5326, 0.0: 5326})\n",
      "Accuracy for dimension 0 is 0.5671469740634005\n",
      "              precision    recall  f1-score   support\n",
      "\n",
      "         0.0       0.24      0.44      0.31       385\n",
      "         1.0       0.79      0.60      0.68      1350\n",
      "\n",
      "    accuracy                           0.57      1735\n",
      "   macro avg       0.52      0.52      0.50      1735\n",
      "weighted avg       0.67      0.57      0.60      1735\n",
      "\n",
      "\n",
      "\n",
      "Resampled dataset shape Counter({0.0: 6001, 1.0: 6001})\n",
      "Accuracy for dimension 1 is 0.6461095100864553\n",
      "              precision    recall  f1-score   support\n",
      "\n",
      "         0.0       0.18      0.38      0.24       258\n",
      "         1.0       0.86      0.69      0.77      1477\n",
      "\n",
      "    accuracy                           0.65      1735\n",
      "   macro avg       0.52      0.54      0.51      1735\n",
      "weighted avg       0.76      0.65      0.69      1735\n",
      "\n",
      "\n",
      "\n",
      "Resampled dataset shape Counter({0.0: 3763, 1.0: 3763})\n",
      "Accuracy for dimension 2 is 0.575792507204611\n",
      "              precision    recall  f1-score   support\n",
      "\n",
      "         0.0       0.61      0.58      0.60       931\n",
      "         1.0       0.54      0.57      0.55       804\n",
      "\n",
      "    accuracy                           0.58      1735\n",
      "   macro avg       0.57      0.58      0.57      1735\n",
      "weighted avg       0.58      0.58      0.58      1735\n",
      "\n",
      "\n",
      "\n",
      "Resampled dataset shape Counter({1.0: 4183, 0.0: 4183})\n",
      "Accuracy for dimension 3 is 0.5020172910662825\n",
      "              precision    recall  f1-score   support\n",
      "\n",
      "         0.0       0.38      0.43      0.40       677\n",
      "         1.0       0.60      0.55      0.57      1058\n",
      "\n",
      "    accuracy                           0.50      1735\n",
      "   macro avg       0.49      0.49      0.49      1735\n",
      "weighted avg       0.51      0.50      0.51      1735\n",
      "\n",
      "\n",
      "\n"
     ]
    }
   ],
   "source": [
    "# use XGBoost to train the model\n",
    "import xgboost as xgb\n",
    "models_xgb = [xgb.XGBClassifier(), xgb.XGBClassifier(), xgb.XGBClassifier(), xgb.XGBClassifier()]\n",
    "y_encoded_train_01 = y_encoded_train.copy()\n",
    "y_encoded_train_01[y_encoded_train_01 == -1] = 0\n",
    "y_encoded_test_01 = y_encoded_test.copy()\n",
    "y_encoded_test_01[y_encoded_test_01 == -1] = 0\n",
    "train_model_balence(X_train_3features, y_encoded_train_01, X_test_3features, y_encoded_test_01, models_xgb)"
   ]
  },
  {
   "cell_type": "code",
   "execution_count": 14,
   "metadata": {},
   "outputs": [],
   "source": [
    "# use all features and XGBoost to train the model\n",
    "models_xgb_all = [xgb.XGBClassifier(), xgb.XGBClassifier(), xgb.XGBClassifier(), xgb.XGBClassifier()]\n",
    "from scipy.sparse import hstack\n",
    "X_train_all = hstack((tfidf_train, X_train_3features))\n",
    "X_test_all = hstack((tfidf_test, X_test_3features))\n",
    "# train_model_balence(X_train_all, y_encoded_train_01, X_test_all, y_encoded_test_01, models_xgb_all)"
   ]
  },
  {
   "cell_type": "code",
   "execution_count": 15,
   "metadata": {},
   "outputs": [
    {
     "name": "stderr",
     "output_type": "stream",
     "text": [
      "/home/tan/anaconda3/envs/nlp/lib/python3.11/site-packages/xgboost/sklearn.py:885: UserWarning: `eval_metric` in `fit` method is deprecated for better compatibility with scikit-learn, use `eval_metric` in constructor or`set_params` instead.\n",
      "  warnings.warn(\n",
      "/home/tan/anaconda3/envs/nlp/lib/python3.11/site-packages/xgboost/sklearn.py:885: UserWarning: `early_stopping_rounds` in `fit` method is deprecated for better compatibility with scikit-learn, use `early_stopping_rounds` in constructor or`set_params` instead.\n",
      "  warnings.warn(\n"
     ]
    },
    {
     "name": "stdout",
     "output_type": "stream",
     "text": [
      "[0]\tvalidation_0-logloss:0.54532\n",
      "[1]\tvalidation_0-logloss:0.54237\n",
      "[2]\tvalidation_0-logloss:0.53879\n",
      "[3]\tvalidation_0-logloss:0.53458\n",
      "[4]\tvalidation_0-logloss:0.53591\n",
      "[5]\tvalidation_0-logloss:0.53367\n",
      "[6]\tvalidation_0-logloss:0.53536\n",
      "[7]\tvalidation_0-logloss:0.53714\n",
      "[8]\tvalidation_0-logloss:0.53691\n",
      "[9]\tvalidation_0-logloss:0.53554\n",
      "[10]\tvalidation_0-logloss:0.53349\n",
      "[11]\tvalidation_0-logloss:0.53691\n",
      "[12]\tvalidation_0-logloss:0.53749\n",
      "[13]\tvalidation_0-logloss:0.53862\n",
      "[14]\tvalidation_0-logloss:0.53851\n",
      "[15]\tvalidation_0-logloss:0.54034\n",
      "[16]\tvalidation_0-logloss:0.54011\n",
      "[17]\tvalidation_0-logloss:0.53972\n",
      "[18]\tvalidation_0-logloss:0.53877\n",
      "[19]\tvalidation_0-logloss:0.53735\n",
      "Accuracy for dimension 0 is 0.7769452449567723\n",
      "              precision    recall  f1-score   support\n",
      "\n",
      "         0.0       0.49      0.09      0.15       385\n",
      "         1.0       0.79      0.97      0.87      1350\n",
      "\n",
      "    accuracy                           0.78      1735\n",
      "   macro avg       0.64      0.53      0.51      1735\n",
      "weighted avg       0.72      0.78      0.71      1735\n",
      "\n",
      "\n",
      "\n"
     ]
    },
    {
     "name": "stderr",
     "output_type": "stream",
     "text": [
      "/home/tan/anaconda3/envs/nlp/lib/python3.11/site-packages/xgboost/sklearn.py:885: UserWarning: `eval_metric` in `fit` method is deprecated for better compatibility with scikit-learn, use `eval_metric` in constructor or`set_params` instead.\n",
      "  warnings.warn(\n",
      "/home/tan/anaconda3/envs/nlp/lib/python3.11/site-packages/xgboost/sklearn.py:885: UserWarning: `early_stopping_rounds` in `fit` method is deprecated for better compatibility with scikit-learn, use `early_stopping_rounds` in constructor or`set_params` instead.\n",
      "  warnings.warn(\n"
     ]
    },
    {
     "name": "stdout",
     "output_type": "stream",
     "text": [
      "[0]\tvalidation_0-logloss:0.39115\n",
      "[1]\tvalidation_0-logloss:0.38440\n",
      "[2]\tvalidation_0-logloss:0.38332\n",
      "[3]\tvalidation_0-logloss:0.38271\n",
      "[4]\tvalidation_0-logloss:0.38058\n",
      "[5]\tvalidation_0-logloss:0.37934\n",
      "[6]\tvalidation_0-logloss:0.38206\n",
      "[7]\tvalidation_0-logloss:0.38238\n",
      "[8]\tvalidation_0-logloss:0.38334\n",
      "[9]\tvalidation_0-logloss:0.38285\n",
      "[10]\tvalidation_0-logloss:0.38205\n",
      "[11]\tvalidation_0-logloss:0.38073\n",
      "[12]\tvalidation_0-logloss:0.38186\n",
      "[13]\tvalidation_0-logloss:0.38135\n",
      "[14]\tvalidation_0-logloss:0.38216\n",
      "[15]\tvalidation_0-logloss:0.38109\n",
      "Accuracy for dimension 1 is 0.8501440922190202\n",
      "              precision    recall  f1-score   support\n",
      "\n",
      "         0.0       0.25      0.00      0.01       258\n",
      "         1.0       0.85      1.00      0.92      1477\n",
      "\n",
      "    accuracy                           0.85      1735\n",
      "   macro avg       0.55      0.50      0.46      1735\n",
      "weighted avg       0.76      0.85      0.78      1735\n",
      "\n",
      "\n",
      "\n"
     ]
    },
    {
     "name": "stderr",
     "output_type": "stream",
     "text": [
      "/home/tan/anaconda3/envs/nlp/lib/python3.11/site-packages/xgboost/sklearn.py:885: UserWarning: `eval_metric` in `fit` method is deprecated for better compatibility with scikit-learn, use `eval_metric` in constructor or`set_params` instead.\n",
      "  warnings.warn(\n",
      "/home/tan/anaconda3/envs/nlp/lib/python3.11/site-packages/xgboost/sklearn.py:885: UserWarning: `early_stopping_rounds` in `fit` method is deprecated for better compatibility with scikit-learn, use `early_stopping_rounds` in constructor or`set_params` instead.\n",
      "  warnings.warn(\n"
     ]
    },
    {
     "name": "stdout",
     "output_type": "stream",
     "text": [
      "[0]\tvalidation_0-logloss:0.66346\n",
      "[1]\tvalidation_0-logloss:0.64217\n",
      "[2]\tvalidation_0-logloss:0.63145\n",
      "[3]\tvalidation_0-logloss:0.62078\n",
      "[4]\tvalidation_0-logloss:0.61351\n",
      "[5]\tvalidation_0-logloss:0.60708\n",
      "[6]\tvalidation_0-logloss:0.59690\n",
      "[7]\tvalidation_0-logloss:0.59604\n",
      "[8]\tvalidation_0-logloss:0.59202\n",
      "[9]\tvalidation_0-logloss:0.58784\n",
      "[10]\tvalidation_0-logloss:0.58627\n",
      "[11]\tvalidation_0-logloss:0.58376\n",
      "[12]\tvalidation_0-logloss:0.57759\n",
      "[13]\tvalidation_0-logloss:0.57262\n",
      "[14]\tvalidation_0-logloss:0.57125\n",
      "[15]\tvalidation_0-logloss:0.57087\n",
      "[16]\tvalidation_0-logloss:0.56788\n",
      "[17]\tvalidation_0-logloss:0.56519\n",
      "[18]\tvalidation_0-logloss:0.56440\n",
      "[19]\tvalidation_0-logloss:0.56453\n",
      "[20]\tvalidation_0-logloss:0.56041\n",
      "[21]\tvalidation_0-logloss:0.55842\n",
      "[22]\tvalidation_0-logloss:0.55756\n",
      "[23]\tvalidation_0-logloss:0.55656\n",
      "[24]\tvalidation_0-logloss:0.56013\n",
      "[25]\tvalidation_0-logloss:0.55809\n",
      "[26]\tvalidation_0-logloss:0.55933\n",
      "[27]\tvalidation_0-logloss:0.56045\n",
      "[28]\tvalidation_0-logloss:0.55630\n",
      "[29]\tvalidation_0-logloss:0.55367\n",
      "[30]\tvalidation_0-logloss:0.55429\n",
      "[31]\tvalidation_0-logloss:0.55601\n",
      "[32]\tvalidation_0-logloss:0.55646\n",
      "[33]\tvalidation_0-logloss:0.55541\n",
      "[34]\tvalidation_0-logloss:0.55356\n",
      "[35]\tvalidation_0-logloss:0.55368\n",
      "[36]\tvalidation_0-logloss:0.55226\n",
      "[37]\tvalidation_0-logloss:0.55096\n",
      "[38]\tvalidation_0-logloss:0.55156\n",
      "[39]\tvalidation_0-logloss:0.55186\n",
      "[40]\tvalidation_0-logloss:0.55296\n",
      "[41]\tvalidation_0-logloss:0.55356\n",
      "[42]\tvalidation_0-logloss:0.55244\n",
      "[43]\tvalidation_0-logloss:0.55210\n",
      "[44]\tvalidation_0-logloss:0.55249\n",
      "[45]\tvalidation_0-logloss:0.55092\n",
      "[46]\tvalidation_0-logloss:0.54883\n",
      "[47]\tvalidation_0-logloss:0.54895\n",
      "[48]\tvalidation_0-logloss:0.55029\n",
      "[49]\tvalidation_0-logloss:0.55023\n",
      "[50]\tvalidation_0-logloss:0.54950\n",
      "[51]\tvalidation_0-logloss:0.55000\n",
      "[52]\tvalidation_0-logloss:0.54986\n",
      "[53]\tvalidation_0-logloss:0.55174\n",
      "[54]\tvalidation_0-logloss:0.54995\n",
      "[55]\tvalidation_0-logloss:0.54958\n",
      "Accuracy for dimension 2 is 0.6985590778097983\n",
      "              precision    recall  f1-score   support\n",
      "\n",
      "         0.0       0.71      0.74      0.72       931\n",
      "         1.0       0.68      0.65      0.67       804\n",
      "\n",
      "    accuracy                           0.70      1735\n",
      "   macro avg       0.70      0.70      0.70      1735\n",
      "weighted avg       0.70      0.70      0.70      1735\n",
      "\n",
      "\n",
      "\n"
     ]
    },
    {
     "name": "stderr",
     "output_type": "stream",
     "text": [
      "/home/tan/anaconda3/envs/nlp/lib/python3.11/site-packages/xgboost/sklearn.py:885: UserWarning: `eval_metric` in `fit` method is deprecated for better compatibility with scikit-learn, use `eval_metric` in constructor or`set_params` instead.\n",
      "  warnings.warn(\n",
      "/home/tan/anaconda3/envs/nlp/lib/python3.11/site-packages/xgboost/sklearn.py:885: UserWarning: `early_stopping_rounds` in `fit` method is deprecated for better compatibility with scikit-learn, use `early_stopping_rounds` in constructor or`set_params` instead.\n",
      "  warnings.warn(\n"
     ]
    },
    {
     "name": "stdout",
     "output_type": "stream",
     "text": [
      "[0]\tvalidation_0-logloss:0.65460\n",
      "[1]\tvalidation_0-logloss:0.65060\n",
      "[2]\tvalidation_0-logloss:0.64359\n",
      "[3]\tvalidation_0-logloss:0.64456\n",
      "[4]\tvalidation_0-logloss:0.64498\n",
      "[5]\tvalidation_0-logloss:0.64524\n",
      "[6]\tvalidation_0-logloss:0.64296\n",
      "[7]\tvalidation_0-logloss:0.64396\n",
      "[8]\tvalidation_0-logloss:0.64343\n",
      "[9]\tvalidation_0-logloss:0.64313\n",
      "[10]\tvalidation_0-logloss:0.64369\n",
      "[11]\tvalidation_0-logloss:0.64460\n",
      "[12]\tvalidation_0-logloss:0.64518\n",
      "[13]\tvalidation_0-logloss:0.64579\n",
      "[14]\tvalidation_0-logloss:0.64594\n",
      "[15]\tvalidation_0-logloss:0.64954\n",
      "[16]\tvalidation_0-logloss:0.65122\n",
      "Accuracy for dimension 3 is 0.6253602305475504\n",
      "              precision    recall  f1-score   support\n",
      "\n",
      "         0.0       0.54      0.26      0.35       677\n",
      "         1.0       0.64      0.86      0.74      1058\n",
      "\n",
      "    accuracy                           0.63      1735\n",
      "   macro avg       0.59      0.56      0.54      1735\n",
      "weighted avg       0.60      0.63      0.59      1735\n",
      "\n",
      "\n",
      "\n"
     ]
    }
   ],
   "source": [
    "# add validation set\n",
    "from sklearn.model_selection import train_test_split\n",
    "X_train_all, X_val_all, y_train_all, y_val_all = train_test_split(X_train_all, y_encoded_train_01, test_size=0.2, random_state=42)\n",
    "\n",
    "# train XGBoost model with early stopping\n",
    "def train_model_with_validation(X_train, y_train, X_val, y_val, X_test, y_test, models):\n",
    "    for i,model in enumerate(models):\n",
    "        model.fit(X_train, y_train[:,i], eval_set=[(X_val, y_val[:,i])], eval_metric='logloss', early_stopping_rounds=10)\n",
    "        y_pred = model.predict(X_test)\n",
    "        print(\"Accuracy for dimension {} is {}\".format(i, accuracy_score(y_test[:,i], y_pred)))\n",
    "        print(classification_report(y_test[:,i], y_pred))\n",
    "        print(\"\\n\")\n",
    "train_model_with_validation(X_train_all, y_train_all, X_val_all, y_val_all, X_test_all, y_encoded_test_01, models_xgb_all)"
   ]
  },
  {
   "cell_type": "code",
   "execution_count": 19,
   "metadata": {},
   "outputs": [
    {
     "name": "stdout",
     "output_type": "stream",
     "text": [
      "              precision    recall  f1-score   support\n",
      "\n",
      "         0.0       0.99      0.38      0.55      1284\n",
      "         1.0       0.84      1.00      0.91      4268\n",
      "\n",
      "    accuracy                           0.86      5552\n",
      "   macro avg       0.92      0.69      0.73      5552\n",
      "weighted avg       0.88      0.86      0.83      5552\n",
      "\n",
      "              precision    recall  f1-score   support\n",
      "\n",
      "         0.0       1.00      0.09      0.17       755\n",
      "         1.0       0.88      1.00      0.93      4797\n",
      "\n",
      "    accuracy                           0.88      5552\n",
      "   macro avg       0.94      0.55      0.55      5552\n",
      "weighted avg       0.89      0.88      0.83      5552\n",
      "\n",
      "              precision    recall  f1-score   support\n",
      "\n",
      "         0.0       0.99      0.99      0.99      2976\n",
      "         1.0       0.99      0.99      0.99      2576\n",
      "\n",
      "    accuracy                           0.99      5552\n",
      "   macro avg       0.99      0.99      0.99      5552\n",
      "weighted avg       0.99      0.99      0.99      5552\n",
      "\n",
      "              precision    recall  f1-score   support\n",
      "\n",
      "         0.0       0.92      0.50      0.65      2219\n",
      "         1.0       0.74      0.97      0.84      3333\n",
      "\n",
      "    accuracy                           0.78      5552\n",
      "   macro avg       0.83      0.73      0.74      5552\n",
      "weighted avg       0.81      0.78      0.76      5552\n",
      "\n"
     ]
    }
   ],
   "source": [
    "print(classification_report(y_train_all[:,0], models_xgb_all[0].predict(X_train_all)))\n",
    "print(classification_report(y_train_all[:,1], models_xgb_all[1].predict(X_train_all)))\n",
    "print(classification_report(y_train_all[:,2], models_xgb_all[2].predict(X_train_all)))\n",
    "print(classification_report(y_train_all[:,3], models_xgb_all[3].predict(X_train_all)))"
   ]
  }
 ],
 "metadata": {
  "kernelspec": {
   "display_name": "nlp",
   "language": "python",
   "name": "python3"
  },
  "language_info": {
   "codemirror_mode": {
    "name": "ipython",
    "version": 3
   },
   "file_extension": ".py",
   "mimetype": "text/x-python",
   "name": "python",
   "nbconvert_exporter": "python",
   "pygments_lexer": "ipython3",
   "version": "3.11.5"
  },
  "orig_nbformat": 4
 },
 "nbformat": 4,
 "nbformat_minor": 2
}
